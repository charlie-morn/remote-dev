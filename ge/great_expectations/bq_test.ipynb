{
 "cells": [
  {
   "cell_type": "code",
   "execution_count": 6,
   "metadata": {},
   "outputs": [],
   "source": [
    "import os\n",
    "\n",
    "import great_expectations as ge\n",
    "from great_expectations.core.batch import BatchRequest, RuntimeBatchRequest"
   ]
  },
  {
   "cell_type": "code",
   "execution_count": 7,
   "metadata": {},
   "outputs": [
    {
     "name": "stderr",
     "output_type": "stream",
     "text": [
      "/usr/local/lib/python3.8/site-packages/great_expectations/datasource/data_connector/runtime_data_connector.py:133: DeprecationWarning: Specifying batch_identifiers as part of the RuntimeDataConnector config is deprecated as of v0.15.1 and will be removed by v0.18. Please configure batch_identifiers as part of Assets instead.\n",
      "  warnings.warn(\n"
     ]
    }
   ],
   "source": [
    "os.environ[\"GOOGLE_APPLICATION_CREDENTIALS\"] = \"uncommitted/signup-bot-364d4f58809f.json\"\n",
    "context = ge.get_context()"
   ]
  },
  {
   "cell_type": "code",
   "execution_count": 8,
   "metadata": {},
   "outputs": [
    {
     "data": {
      "text/plain": [
       "{'getting_started_datasource': <great_expectations.datasource.new_datasource.Datasource at 0xffff507aed30>,\n",
       " 'bq_goes': <great_expectations.datasource.new_datasource.Datasource at 0xffff6ac6d2b0>}"
      ]
     },
     "execution_count": 8,
     "metadata": {},
     "output_type": "execute_result"
    }
   ],
   "source": [
    "context.datasources"
   ]
  },
  {
   "cell_type": "code",
   "execution_count": 9,
   "metadata": {},
   "outputs": [],
   "source": [
    "batch_request = RuntimeBatchRequest(\n",
    "    datasource_name=\"bq_goes\",\n",
    "    data_connector_name=\"default_runtime_data_connector_name\",\n",
    "    data_asset_name=\"gsod\",  # this can be anything that identifies this data\n",
    "    runtime_parameters={\"query\": \"SELECT * FROM `nh_demo.stations` LIMIT 10\"},\n",
    "    batch_identifiers={\"default_identifier_name\": \"default_identifier\"},\n",
    ")"
   ]
  },
  {
   "cell_type": "code",
   "execution_count": 10,
   "metadata": {},
   "outputs": [
    {
     "name": "stderr",
     "output_type": "stream",
     "text": [
      "Calculating Metrics: 100%|██████████| 1/1 [00:03<00:00,  3.20s/it]"
     ]
    },
    {
     "name": "stdout",
     "output_type": "stream",
     "text": [
      "     usaf   wban                           name country state  call     lat  \\\n",
      "0  010016  99999                    RORVIK/RYUM      NO  None  None  64.850   \n",
      "1  010190  99999                    SVARTTANGEN      NO  None  None  77.517   \n",
      "2  010240  99999                      PYRAMIDEN      NO  None  None  78.650   \n",
      "3  010071  99999                   LONGYEARBYEN      SV  None  None  78.217   \n",
      "4  008268  99999  WXPOD8278                          AF  None  None  32.950   \n",
      "\n",
      "      lon     elev     begin       end  \n",
      "0  11.233  +0014.0  19870116  19910806  \n",
      "1  20.817  +0020.0  20100825  20140523  \n",
      "2  16.367  +0020.0  19730101  20210918  \n",
      "3  15.583  +0037.0  20050210  20050210  \n",
      "4  65.567  +1156.7  20100519  20120323  \n"
     ]
    },
    {
     "name": "stderr",
     "output_type": "stream",
     "text": [
      "\n"
     ]
    }
   ],
   "source": [
    "context.create_expectation_suite(\n",
    "    expectation_suite_name=\"bq_suite\", overwrite_existing=True\n",
    ")\n",
    "validator = context.get_validator(\n",
    "    batch_request=batch_request, expectation_suite_name=\"bq_suite\"\n",
    ")\n",
    "print(validator.head())"
   ]
  },
  {
   "cell_type": "code",
   "execution_count": 11,
   "metadata": {},
   "outputs": [
    {
     "name": "stderr",
     "output_type": "stream",
     "text": [
      "Calculating Metrics: 100%|██████████| 2/2 [00:00<00:00, 11.07it/s]"
     ]
    },
    {
     "name": "stdout",
     "output_type": "stream",
     "text": [
      "Columns: \"usaf\",\"wban\",\"name\",\"country\",\"state\",\"call\",\"lat\",\"lon\",\"elev\",\"begin\",\"end\".\n"
     ]
    },
    {
     "name": "stderr",
     "output_type": "stream",
     "text": [
      "\n"
     ]
    }
   ],
   "source": [
    "column_names = [f'\"{column_name}\"' for column_name in validator.columns()]\n",
    "print(f\"Columns: {','.join(column_names)}.\")"
   ]
  },
  {
   "cell_type": "code",
   "execution_count": 12,
   "metadata": {},
   "outputs": [],
   "source": [
    "ignored_columns = [\n",
    "    \"usaf\",\n",
    "    \"wban\",\n",
    "    \"name\",\n",
    "    \"country\",\n",
    "    \"state\",\n",
    "    \"call\",\n",
    "    #\"lat\",\n",
    "    #\"lon\",\n",
    "    #\"elev\",\n",
    "    \"begin\",\n",
    "    \"end\",\n",
    "]"
   ]
  },
  {
   "cell_type": "code",
   "execution_count": null,
   "metadata": {},
   "outputs": [],
   "source": []
  }
 ],
 "metadata": {
  "interpreter": {
   "hash": "949777d72b0d2535278d3dc13498b2535136f6dfe0678499012e853ee9abcab1"
  },
  "kernelspec": {
   "display_name": "Python 3.8.13 64-bit",
   "language": "python",
   "name": "python3"
  },
  "language_info": {
   "codemirror_mode": {
    "name": "ipython",
    "version": 3
   },
   "file_extension": ".py",
   "mimetype": "text/x-python",
   "name": "python",
   "nbconvert_exporter": "python",
   "pygments_lexer": "ipython3",
   "version": "3.8.13"
  },
  "orig_nbformat": 4
 },
 "nbformat": 4,
 "nbformat_minor": 2
}
